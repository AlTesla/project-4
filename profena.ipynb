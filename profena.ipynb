{
 "cells": [
  {
   "cell_type": "code",
   "execution_count": null,
   "metadata": {},
   "outputs": [],
   "source": [
    "#reading csv file\n",
    "import pandas as pd\n",
    "from pathlib import Path\n",
    "data_file = Path(\"Resources/car_purchases.csv\")\n",
    "# Use Pandas to the read data.\n",
    "data_file_df = pd.read_csv(data_file)\n",
    "data_file_df.head()\n"
   ]
  }
 ],
 "metadata": {
  "language_info": {
   "name": "python"
  }
 },
 "nbformat": 4,
 "nbformat_minor": 2
}
