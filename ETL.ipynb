{
 "cells": [
  {
   "cell_type": "code",
   "execution_count": 1,
   "metadata": {},
   "outputs": [],
   "source": [
    "import pandas as pd\n",
    "from pathlib import Path\n",
    "import datetime"
   ]
  },
  {
   "cell_type": "code",
   "execution_count": 2,
   "metadata": {},
   "outputs": [],
   "source": [
    "data_file = Path(\"Resources/afluenciastc_simple_08_2023.csv\")"
   ]
  },
  {
   "cell_type": "code",
   "execution_count": 3,
   "metadata": {},
   "outputs": [],
   "source": [
    "influx_df = pd.read_csv(data_file)"
   ]
  },
  {
   "cell_type": "code",
   "execution_count": 4,
   "metadata": {},
   "outputs": [
    {
     "data": {
      "text/plain": [
       "fecha        datetime64[ns]\n",
       "anio                  int64\n",
       "mes                  object\n",
       "linea                object\n",
       "estacion             object\n",
       "afluencia             int64\n",
       "dtype: object"
      ]
     },
     "execution_count": 4,
     "metadata": {},
     "output_type": "execute_result"
    }
   ],
   "source": [
    "influx_df = influx_df.astype({\"fecha\": \"datetime64\"})\n",
    "influx_df.dtypes"
   ]
  },
  {
   "cell_type": "code",
   "execution_count": 5,
   "metadata": {},
   "outputs": [],
   "source": [
    "influx_df = influx_df.rename(columns={'fecha': 'date', 'anio': 'year',\n",
    "                                      'mes': 'month', 'linea': 'line',\n",
    "                                      'estacion': 'station', 'afluencia': 'influx'})"
   ]
  },
  {
   "cell_type": "code",
   "execution_count": 6,
   "metadata": {},
   "outputs": [],
   "source": [
    "influx_df['day'] = influx_df['date'].dt.day"
   ]
  },
  {
   "cell_type": "code",
   "execution_count": 7,
   "metadata": {},
   "outputs": [],
   "source": [
    "influx_df['weekday'] = influx_df['date'].dt.day_of_week"
   ]
  },
  {
   "cell_type": "code",
   "execution_count": 8,
   "metadata": {},
   "outputs": [],
   "source": [
    "day_off_path = Path('Resources\\dias_no_habiles.csv')\n",
    "day_off_df = pd.read_csv(day_off_path)"
   ]
  },
  {
   "cell_type": "code",
   "execution_count": 9,
   "metadata": {},
   "outputs": [],
   "source": [
    "day_off_df = day_off_df.apply(pd.to_datetime)\n",
    "day_off_df = day_off_df.stack().reset_index(drop=True)\n",
    "influx_df['day_off'] = influx_df['date'].isin(day_off_df)"
   ]
  },
  {
   "cell_type": "code",
   "execution_count": 10,
   "metadata": {},
   "outputs": [
    {
     "data": {
      "text/html": [
       "<div>\n",
       "<style scoped>\n",
       "    .dataframe tbody tr th:only-of-type {\n",
       "        vertical-align: middle;\n",
       "    }\n",
       "\n",
       "    .dataframe tbody tr th {\n",
       "        vertical-align: top;\n",
       "    }\n",
       "\n",
       "    .dataframe thead th {\n",
       "        text-align: right;\n",
       "    }\n",
       "</style>\n",
       "<table border=\"1\" class=\"dataframe\">\n",
       "  <thead>\n",
       "    <tr style=\"text-align: right;\">\n",
       "      <th></th>\n",
       "      <th>date</th>\n",
       "      <th>year</th>\n",
       "      <th>month</th>\n",
       "      <th>line</th>\n",
       "      <th>station</th>\n",
       "      <th>influx</th>\n",
       "      <th>day</th>\n",
       "      <th>weekday</th>\n",
       "      <th>day_off</th>\n",
       "    </tr>\n",
       "  </thead>\n",
       "  <tbody>\n",
       "    <tr>\n",
       "      <th>0</th>\n",
       "      <td>2010-01-01</td>\n",
       "      <td>2010</td>\n",
       "      <td>Enero</td>\n",
       "      <td>Línea 1</td>\n",
       "      <td>Zaragoza</td>\n",
       "      <td>20227</td>\n",
       "      <td>1</td>\n",
       "      <td>4</td>\n",
       "      <td>True</td>\n",
       "    </tr>\n",
       "    <tr>\n",
       "      <th>1</th>\n",
       "      <td>2010-01-01</td>\n",
       "      <td>2010</td>\n",
       "      <td>Enero</td>\n",
       "      <td>Línea 1</td>\n",
       "      <td>Isabel la Católica</td>\n",
       "      <td>6487</td>\n",
       "      <td>1</td>\n",
       "      <td>4</td>\n",
       "      <td>True</td>\n",
       "    </tr>\n",
       "    <tr>\n",
       "      <th>2</th>\n",
       "      <td>2010-01-01</td>\n",
       "      <td>2010</td>\n",
       "      <td>Enero</td>\n",
       "      <td>Línea 1</td>\n",
       "      <td>Moctezuma</td>\n",
       "      <td>10304</td>\n",
       "      <td>1</td>\n",
       "      <td>4</td>\n",
       "      <td>True</td>\n",
       "    </tr>\n",
       "    <tr>\n",
       "      <th>3</th>\n",
       "      <td>2010-01-01</td>\n",
       "      <td>2010</td>\n",
       "      <td>Enero</td>\n",
       "      <td>Línea 1</td>\n",
       "      <td>Pino Suárez</td>\n",
       "      <td>8679</td>\n",
       "      <td>1</td>\n",
       "      <td>4</td>\n",
       "      <td>True</td>\n",
       "    </tr>\n",
       "    <tr>\n",
       "      <th>4</th>\n",
       "      <td>2010-01-01</td>\n",
       "      <td>2010</td>\n",
       "      <td>Enero</td>\n",
       "      <td>Línea 1</td>\n",
       "      <td>Gómez Farías</td>\n",
       "      <td>19499</td>\n",
       "      <td>1</td>\n",
       "      <td>4</td>\n",
       "      <td>True</td>\n",
       "    </tr>\n",
       "  </tbody>\n",
       "</table>\n",
       "</div>"
      ],
      "text/plain": [
       "        date  year  month     line             station  influx  day  weekday  \\\n",
       "0 2010-01-01  2010  Enero  Línea 1            Zaragoza   20227    1        4   \n",
       "1 2010-01-01  2010  Enero  Línea 1  Isabel la Católica    6487    1        4   \n",
       "2 2010-01-01  2010  Enero  Línea 1           Moctezuma   10304    1        4   \n",
       "3 2010-01-01  2010  Enero  Línea 1         Pino Suárez    8679    1        4   \n",
       "4 2010-01-01  2010  Enero  Línea 1        Gómez Farías   19499    1        4   \n",
       "\n",
       "   day_off  \n",
       "0     True  \n",
       "1     True  \n",
       "2     True  \n",
       "3     True  \n",
       "4     True  "
      ]
     },
     "execution_count": 10,
     "metadata": {},
     "output_type": "execute_result"
    }
   ],
   "source": [
    "influx_df.head()"
   ]
  },
  {
   "cell_type": "code",
   "execution_count": 11,
   "metadata": {},
   "outputs": [],
   "source": [
    "stations_group = influx_df[['station', 'line']].copy()"
   ]
  },
  {
   "cell_type": "code",
   "execution_count": 12,
   "metadata": {},
   "outputs": [],
   "source": [
    "stations_group = stations_group.drop_duplicates(subset=['station', 'line'])\n",
    "intersections_df = stations_group.groupby(\n",
    "    'station')['line'].count().reset_index()\n",
    "intersections_df = intersections_df.rename(columns={'line': 'ints'})"
   ]
  },
  {
   "cell_type": "code",
   "execution_count": 13,
   "metadata": {},
   "outputs": [],
   "source": [
    "influx_df = pd.merge(influx_df, intersections_df, on='station', how='left')"
   ]
  },
  {
   "cell_type": "code",
   "execution_count": 14,
   "metadata": {},
   "outputs": [],
   "source": [
    "def get_season(date):\n",
    "    if (date.month >= 3 and date.month <= 5):\n",
    "        return 'Spring'\n",
    "    elif (date.month >= 6 and date.month <= 8):\n",
    "        return 'Summer'\n",
    "    elif (date.month >= 9 and date.month <= 11):\n",
    "        return 'Autumn'\n",
    "    else:\n",
    "        return 'Winter'"
   ]
  },
  {
   "cell_type": "code",
   "execution_count": 15,
   "metadata": {},
   "outputs": [],
   "source": [
    "influx_df['season'] = influx_df['date'].apply(get_season)"
   ]
  },
  {
   "cell_type": "code",
   "execution_count": 16,
   "metadata": {},
   "outputs": [],
   "source": [
    "def Summer_vacations(date):\n",
    "    spring_2019 = (date >= pd.Timestamp('2019-06-24')\n",
    "                   ) and (date <= pd.Timestamp('2019-08-26'))\n",
    "    spring_2020 = (date >= pd.Timestamp('2020-07-06')\n",
    "                   ) and (date <= pd.Timestamp('2020-08-24'))\n",
    "    spring_2021 = (date >= pd.Timestamp('2021-07-09')\n",
    "                   ) and (date <= pd.Timestamp('2021-08-30'))\n",
    "    spring_2022 = (date >= pd.Timestamp('2022-07-28')\n",
    "                   ) and (date <= pd.Timestamp('2022-08-29'))\n",
    "\n",
    "    return spring_2019 or spring_2020 or spring_2021 or spring_2022"
   ]
  },
  {
   "cell_type": "code",
   "execution_count": 17,
   "metadata": {},
   "outputs": [],
   "source": [
    "influx_df['summer_vacations'] = influx_df['date'].apply(Summer_vacations)"
   ]
  },
  {
   "cell_type": "code",
   "execution_count": 18,
   "metadata": {},
   "outputs": [],
   "source": [
    "stations_list = ['Zaragoza', 'Isabel la Católica', 'Moctezuma', 'Pino Suárez', 'Gómez Farías', 'Deportivo 18 de Marzo', 'La Villa/Basílica', 'Pantitlán', 'Aculco', 'Velódromo', 'Autobuses del Norte', 'Misterios',\n",
    "                 'Constituyentes', 'Refinería', 'Etiopía/Plaza de la Transparencia', 'Polanco', 'Canal del Norte', 'Bondojito', 'Santa Anita', 'Popotla', 'General Anaya', 'División del Norte', 'Zapata',\n",
    "                 'Fray Servando', 'Hangares', 'El Rosario', 'Ferrería/Arena Ciudad de México', 'Instituto del Petróleo', 'Coyuya', 'Apatlaco', 'La Viga', 'Chabacano', 'San Juan de Letrán', 'Barranca del Muerto',\n",
    "                 'Garibaldi/Lagunilla', 'Buenavista', 'Guerrero', 'Oceanía', 'Nezahualcóyotl', 'Revolución', 'Indios Verdes', 'Hidalgo', 'Colegio Militar', 'Normal', 'San Cosme', 'Juárez', 'Olímpica', 'Ciudad Azteca',\n",
    "                 'Tlaltenco', 'Insurgentes Sur', 'Culhuacán', 'Calle 11', 'Chilpancingo', 'Peñón Viejo', 'Canal de San Juan', 'Lomas Estrella', 'San Andrés Tomatlán', 'Ermita', 'Xola', 'Salto del Agua', 'Balderas',\n",
    "                 'Portales', 'Eduardo Molina', 'Candelaria', 'Aragón', 'Tacubaya', 'San Pedro de los Pinos', 'Camarones', 'Doctores', 'San Antonio', 'Mixcoac', 'Tacuba', 'Martín Carrera', 'Auditorio', 'Aquiles Serdán',\n",
    "                 'San Joaquín', 'Morelos', 'San Antonio Abad', 'Viaducto', 'Norte 45', 'Vallejo', 'Tezozómoc', 'UAM-Azcapotzalco', 'Bellas Artes', 'Cuitláhuac', 'Terminal Aérea', 'Eugenia', 'Observatorio',\n",
    "                 'Cuatro Caminos', 'Panteones', 'Copilco', 'Centro Médico', 'Universidad', 'Lindavista', 'Coyoacán', 'Jamaica', 'La Raza', 'Viveros/Derechos Humanos', 'Miguel Ángel de Quevedo', 'Chapultepec', 'Obrera',\n",
    "                 'Allende', 'Zócalo/Tenochtitlan', 'Nativitas', 'Boulevard Puerto Aéreo', 'Sevilla', 'Villa de Cortés', 'Consulado', 'Talismán', 'Valle Gómez', 'Politécnico', 'Niños Héroes', 'Hospital General',\n",
    "                 'Tasqueña', 'Potrero', 'Tlatelolco', 'Balbuena', 'Tepito', 'Merced', 'Insurgentes', 'Juanacatlán', 'Plaza Aragón', 'Guelatao', 'Lagunilla', 'La Paz', 'Iztapalapa', 'Patriotismo', 'Cerro de la Estrella',\n",
    "                 'Zapotitlán', 'Nopalera', 'Olivos', 'Río de los Remedios', 'Múzquiz', 'Atlalilco', 'Tezonco', 'Impulsora', 'Escuadrón 201', 'Periférico Oriente', 'Iztacalco', 'Tláhuac', 'UAM-I', 'Ecatepec', 'Acatitla',\n",
    "                 'Hospital 20 de Noviembre', 'Eje Central', 'Parque de los Venados', 'San Lázaro', 'Romero Rubio', 'Villa de Aragón', 'Tepalcates', 'Agrícola Oriental', 'Deportivo Oceanía', 'Puebla', 'Ciudad Deportiva',\n",
    "                 'Mixiuhca', 'Bosque de Aragón', 'Santa Marta', 'Los Reyes', 'Constitución de 1917', 'Cuauhtémoc', 'Mexicaltzingo', 'Ricardo Flores Magón', 'Lázaro Cárdenas']\n",
    "\n",
    "district_list = ['Venustiano Carranza', 'Cuauhtémoc', 'Venustiano Carranza', 'Cuauhtémoc', 'Venustiano Carranza', 'Gustavo A. Madero', 'Gustavo A. Madero', 'Iztacalco', 'Iztapalapa', 'Iztacalco', 'Gustavo A. Madero',\n",
    "                 'Cuauhtémoc', 'Miguel Hidalgo', 'Azcapotzalco', 'Benito Juárez', 'Miguel Hidalgo', 'Cuauhtémoc', 'Gustavo A. Madero', 'Iztacalco', 'Miguel Hidalgo', 'Benito Juárez', 'Benito Juárez', 'Benito Juárez',\n",
    "                 'Venustiano Carranza', 'Venustiano Carranza', 'Azcapotzalco', 'Azcapotzalco', 'Gustavo A. Madero', 'Iztacalco', 'Iztacalco', 'Iztacalco', 'Cuauhtémoc', 'Cuauhtémoc', 'Álvaro Obregón', 'Cuauhtémoc',\n",
    "                 'Cuauhtémoc', 'Cuauhtémoc', 'Venustiano Carranza', 'Venustiano Carranza', 'Benito Juárez', 'Gustavo A. Madero', 'Cuauhtémoc', 'Miguel Hidalgo', 'Cuauhtémoc', 'Cuauhtémoc', 'Cuauhtémoc', 'Benito Juárez',\n",
    "                 'Ecatepec', 'Tláhuac', 'Benito Juárez', 'Iztapalapa', 'Iztapalapa', 'Benito Juárez', 'Tláhuac', 'Iztacalco', 'Iztapalapa', 'Iztapalapa', 'Iztapalapa', 'Benito Juárez', 'Cuauhtémoc', 'Cuauhtémoc',\n",
    "                 'Benito Juárez', 'Gustavo A. Madero', 'Venustiano Carranza', 'Gustavo A. Madero', 'Miguel Hidalgo', 'Álvaro Obregón', 'Azcapotzalco', 'Cuauhtémoc', 'Tláhuac', 'Álvaro Obregón', 'Miguel Hidalgo',\n",
    "                 'Gustavo A. Madero', 'Miguel Hidalgo', 'Azcapotzalco', 'Miguel Hidalgo', 'Venustiano Carranza', 'Cuauhtémoc', 'Benito Juárez', 'Gustavo A. Madero', 'Gustavo A. Madero', 'Azcapotzalco', 'Azcapotzalco',\n",
    "                 'Cuauhtémoc', 'Azcapotzalco', 'Venustiano Carranza', 'Benito Juárez', 'Miguel Hidalgo', 'Miguel Hidalgo', 'Azcapotzalco', 'Coyoacán', 'Cuauhtémoc', 'Coyoacán', 'Gustavo A. Madero', 'Coyoacán',\n",
    "                 'Venustiano Carranza', 'Gustavo A. Madero', 'Coyoacán', 'Coyoacán', 'Miguel Hidalgo', 'Cuauhtémoc', 'Cuauhtémoc', 'Cuauhtémoc', 'Benito Juárez', 'Venustiano Carranza', 'Benito Juárez', 'Benito Juárez',\n",
    "                 'Venustiano Carranza', 'Gustavo A. Madero', 'Venustiano Carranza', 'Gustavo A. Madero', 'Benito Juárez', 'Cuauhtémoc', 'Coyoacán', 'Gustavo A. Madero', 'Cuauhtémoc', 'Venustiano Carranza', 'Cuauhtémémoc',\n",
    "                 'Cuauhtémoc', 'Cuauhtémoc', 'Cuajimalpa', 'Ecatepec', 'Iztapalapa', 'Cuauhtémoc', 'La Paz (Estado de México)', 'Iztapalapa', 'Benito Juárez', 'Iztapalapa', 'Tláhuac', 'Tláhuac', 'Tláhuac',\n",
    "                 'Gustavo A. Madero', 'Gustavo A. Madero', 'Iztapalapa', 'Iztapalapa', 'Nezahualcóyotl', 'Nezahualcóyotl', 'Nezahualcóyotl', 'Iztacalco', 'Tláhuac', 'Iztapalapa', 'Ecatepec', 'Iztapalapa', 'Álvaro Obregón',\n",
    "                 'Cuauhtémoc', 'Benito Juárez', 'Cuauhtémoc', 'Venustiano Carranza', 'Gustavo A. Madero', 'Venustiano Carranza', 'Iztacalco', 'Venustiano Carranza', 'Venustiano Carranza', 'Iztacalco', 'Venustiano Carranza',\n",
    "                 'Nezahualcóyotl', 'Iztapalapa', 'La Paz (Estado de México)', 'Tláhuac', 'Cuauhtémoc', 'Iztapalapa', 'Cuauhtémoc', 'Cuauhtémoc']"
   ]
  },
  {
   "cell_type": "code",
   "execution_count": 19,
   "metadata": {},
   "outputs": [],
   "source": [
    "station_district_df = pd.DataFrame(\n",
    "    {\"station\": stations_list, \"district\": district_list})"
   ]
  },
  {
   "cell_type": "code",
   "execution_count": 20,
   "metadata": {},
   "outputs": [],
   "source": [
    "influx_df = pd.merge(influx_df, station_district_df, on='station', how='left')"
   ]
  },
  {
   "cell_type": "code",
   "execution_count": 21,
   "metadata": {},
   "outputs": [
    {
     "data": {
      "text/plain": [
       "Index(['date', 'year', 'month', 'line', 'station', 'influx', 'day', 'weekday',\n",
       "       'day_off', 'ints', 'season', 'summer_vacations', 'district'],\n",
       "      dtype='object')"
      ]
     },
     "execution_count": 21,
     "metadata": {},
     "output_type": "execute_result"
    }
   ],
   "source": [
    "influx_df.columns"
   ]
  },
  {
   "cell_type": "code",
   "execution_count": 22,
   "metadata": {},
   "outputs": [],
   "source": [
    "date_df = influx_df[['date', 'day', 'month', 'year', 'weekday',\n",
    "                     'day_off', 'season', 'summer_vacations']].copy()\n",
    "\n",
    "date_df = date_df.drop_duplicates(subset=['date']).reset_index(drop=True)\n",
    "\n",
    "date_df.to_csv('Outputs/dates.csv')"
   ]
  },
  {
   "cell_type": "code",
   "execution_count": 23,
   "metadata": {},
   "outputs": [],
   "source": [
    "coordinates_path = ('Resources/estacion-coordenadas.csv')\n",
    "coordinates_df = pd.read_csv(coordinates_path)"
   ]
  },
  {
   "cell_type": "code",
   "execution_count": 24,
   "metadata": {},
   "outputs": [],
   "source": [
    "coordinates_df.columns = ['station', 'lat', 'long', 'a', 'b', 'c', 'd', 'e']\n",
    "coordinates_df = coordinates_df.drop(['a', 'b', 'c', 'd', 'e'], axis=1)\n",
    "new_row = ['Zaragoza', '19.4130896', '-99.08234751']\n",
    "coordinates_df.loc[162] = new_row\n",
    "\n",
    "coordinates_df = coordinates_df.drop(\n",
    "    coordinates_df.index[[163, 164, 165, 166, 167, 168]], axis=0\n",
    ")"
   ]
  },
  {
   "cell_type": "code",
   "execution_count": 25,
   "metadata": {},
   "outputs": [],
   "source": [
    "influx_df = pd.merge(influx_df, coordinates_df, on='station', how='left')"
   ]
  },
  {
   "cell_type": "code",
   "execution_count": 26,
   "metadata": {},
   "outputs": [],
   "source": [
    "stations_df = influx_df[['station', 'district', 'ints', 'lat', 'long']]\n",
    "stations_df = stations_df.drop_duplicates(\n",
    "    subset=['station']).reset_index(drop=True)"
   ]
  },
  {
   "cell_type": "code",
   "execution_count": null,
   "metadata": {},
   "outputs": [],
   "source": [
    "stations_df.to_csv('Outputs/stations.csv')"
   ]
  }
 ],
 "metadata": {
  "kernelspec": {
   "display_name": "base",
   "language": "python",
   "name": "python3"
  },
  "language_info": {
   "codemirror_mode": {
    "name": "ipython",
    "version": 3
   },
   "file_extension": ".py",
   "mimetype": "text/x-python",
   "name": "python",
   "nbconvert_exporter": "python",
   "pygments_lexer": "ipython3",
   "version": "3.11.3"
  }
 },
 "nbformat": 4,
 "nbformat_minor": 2
}
